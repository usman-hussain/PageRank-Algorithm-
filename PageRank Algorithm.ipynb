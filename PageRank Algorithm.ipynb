{
 "cells": [
  {
   "cell_type": "markdown",
   "metadata": {},
   "source": [
    "# PageRank"
   ]
  },
  {
   "cell_type": "markdown",
   "metadata": {},
   "source": [
    "## Introduction"
   ]
  },
  {
   "cell_type": "markdown",
   "metadata": {},
   "source": [
    "When the Google search engine was launched, one specific algorithm helped it reign supreme and aided in making it one of the most power search engines of its time.\n",
    "\n",
    "This link analysis algorithm, dubbed PageRank, assigns numerical weighting to elements of a hyper-linked network of web pages. Each page is ranked by evaluating the quality and quantity of its links, and the higher the rank, the more significant the page in the network. The main assumption for this algorithm is that important or relevant websites are more likely to receive links from other websites. By ranking pages based on the number of links to a page, the algorithm is able to provide more relevant websites when a user is searching for something. \n",
    "\n",
    "The PageRank algorithm looks at all the links $l_1, \\dots, l_k$ pointing to a page $P$, where link $l_i$ starts on a page $P_i$. The page rank is then calculated using the following formula :\n",
    "\n",
    "####  $r(P) = \\sum_{i=1}^k \\frac{r(P_i)}{n(P_i)}$\n",
    "\n",
    "where the Pagerank of the webpage $P_i$ is ${r(P_i)}$ and the number of all links originating from page $P_i$ is ${n(P_i)}$. Each page is given a rank number $0 \\leq r(P) \\leq 1$, and the sum of all the ranks will equal 1.\n",
    "\n",
    "I will be making my own PageRank algorithm and ranking the websites of the UB Math Department, which consists of approximately 280 web pages. The goal is to successfully rank the web pages and try to understand why certain web pages are ranked the way they are. For example, I expect that the main homepage of the UB Math department (http://www.buffalo.edu/cas/math.html) will be ranked the highest, as a lot of information and links are provided for undergrad and graduate students on this page.\n"
   ]
  },
  {
   "cell_type": "markdown",
   "metadata": {},
   "source": [
    "## Creating PageRank Algorithm "
   ]
  },
  {
   "cell_type": "code",
   "execution_count": 1,
   "metadata": {
    "ExecuteTime": {
     "end_time": "2021-01-13T02:28:52.718437Z",
     "start_time": "2021-01-13T02:28:52.145228Z"
    }
   },
   "outputs": [],
   "source": [
    "import requests   \n",
    "import re\n",
    "\n",
    "ubm = requests.get('http://www.buffalo.edu/cas/math.html').text #grab all the data from the math website and put it in string"
   ]
  },
  {
   "cell_type": "code",
   "execution_count": 2,
   "metadata": {
    "ExecuteTime": {
     "end_time": "2021-01-13T02:28:52.750312Z",
     "start_time": "2021-01-13T02:28:52.721390Z"
    }
   },
   "outputs": [
    {
     "data": {
      "text/plain": [
       "'<!DOCTYPE HTML><html lang=\"en\" class=\"ubcms-65\"><!-- cmspub04 0112-211631 --><head><meta http-equiv=\"X-UA-Compatible\" content=\"IE=edge\"/><meta http-equiv=\"content-type\" content=\"text/html; charset=UTF-8\"/><meta id=\"meta-viewport\" name=\"viewport\" content=\"width=device-width,initial-scale=1\"/><script>if (screen.width > 720 && screen.width < 960) document.getElementById(\\'meta-viewport\\').setAttribute(\\'content\\',\\'width=960\\');</script><script>(function(w,d,s,l,i){w[l]=w[l]||[];w[l].push({\\'gtm.start\\':new Date().getTime(),event:\\'gtm.js\\'});var f=d.getElementsByTagName(s)[0],j=d.createElement(s),dl=l!=\\'dataLayer\\'?\\'&l=\\'+l:\\'\\';j.async=true;j.src=\\'https://www.googletagmanager.com/gtm.js?id=\\'+i+dl;f.parentNode.insertBefore(j,f);})(window,document,\\'script\\',\\'dataLayer\\',\\'GTM-T5KRRKT\\');</script><title>Department of Mathematics - Department of Mathematics - University at Buffalo</title><link rel=\"canonical\" href=\"http://www.buffalo.edu/cas/math.html\"/><meta name=\"date\" content=\"2021-01-08\"/><meta property='"
      ]
     },
     "execution_count": 2,
     "metadata": {},
     "output_type": "execute_result"
    }
   ],
   "source": [
    "ubm[:1000]  #checking to see what information is stored from grabbing homepage data"
   ]
  },
  {
   "cell_type": "markdown",
   "metadata": {},
   "source": [
    "Href is an HTML attribute that specifies the URL of the page a link goes to. I will use this to find the relevant links and grab them, as the `ubm` variable contains all the page information for the homepage, and I only want the math department links it contains so I can rank them.\n",
    "\n",
    "So, I will use `re.findall()` and search for all `href` links that contain `/cas/math` as these links are UB Math Department websites only. "
   ]
  },
  {
   "cell_type": "code",
   "execution_count": 3,
   "metadata": {
    "ExecuteTime": {
     "end_time": "2021-01-13T02:28:52.766273Z",
     "start_time": "2021-01-13T02:28:52.753305Z"
    },
    "scrolled": true
   },
   "outputs": [
    {
     "name": "stdout",
     "output_type": "stream",
     "text": [
      "['/cas/math.html', '/cas/math/about-us.html', '/cas/math/about-us/why-choose.html', '/cas/math/about-us/our-mission.html', '/cas/math/about-us/our-alumni.html', '/cas/math/about-us/our-alumni/our-alumni.html', '/cas/math/about-us/our-alumni/our-students.html', '/cas/math/about-us/our-alumni/our-faculty.html', '/cas/math/about-us/memberships.html', '/cas/math/about-us/memberships/AMS.html', '/cas/math/about-us/memberships/AWM.html', '/cas/math/about-us/memberships/MSRI.html', '/cas/math/about-us/about-the-university.html', '/cas/math/about-us/the-buffalo-niagara-region.html', '/cas/math/news-events/visiting.html', '/cas/math/about-us/contact-us.html', '/cas/math/people.html', '/cas/math/people/faculty.html', '/cas/math/people/staff_directory.html', '/cas/math/people/emeriti.html']\n"
     ]
    },
    {
     "data": {
      "text/plain": [
       "145"
      ]
     },
     "execution_count": 3,
     "metadata": {},
     "output_type": "execute_result"
    }
   ],
   "source": [
    "foo = re.findall(r'href=\"(/cas/math.+?)\"',ubm) #find all (non greedy) instances of '/cas/math' and the following letters\n",
    "print(foo[:20])                                #store in list foo\n",
    "len(foo)"
   ]
  },
  {
   "cell_type": "code",
   "execution_count": 4,
   "metadata": {
    "ExecuteTime": {
     "end_time": "2021-01-13T02:28:52.782261Z",
     "start_time": "2021-01-13T02:28:52.769263Z"
    }
   },
   "outputs": [
    {
     "data": {
      "text/plain": [
       "95"
      ]
     },
     "execution_count": 4,
     "metadata": {},
     "output_type": "execute_result"
    }
   ],
   "source": [
    "s = set(foo)  #putting into set removes duplicates\n",
    "len(s)"
   ]
  },
  {
   "cell_type": "code",
   "execution_count": 5,
   "metadata": {
    "ExecuteTime": {
     "end_time": "2021-01-13T02:30:23.280404Z",
     "start_time": "2021-01-13T02:28:52.785220Z"
    }
   },
   "outputs": [],
   "source": [
    "visit = set()                        # create empty set that will be filled with pages we have opened\n",
    "tovisit = {'/cas/math.html'}         # need tovisit set which contains pages from math homepage\n",
    "mydict={}                            # empty dictionary \n",
    "\n",
    "while len(tovisit)!=0:               # while unchecked pages is not empty, we will continue to check\n",
    "    link = tovisit.pop()             # grabs random link from set of unchecked page\n",
    "    page = requests.get('http://www.buffalo.edu'+link).text  # open the page and place information \n",
    "    find = re.findall(r'href=\"(/cas/math.+?)\"',page) # find all relevant math links/pages\n",
    "    visit.add(link)           #we have checked the page so add it to visit\n",
    "    mydict[link]=find         # add the page we opened and checked as key in dictionary\n",
    "    for k in find:            # now add each relevent math link we found by opening the page\n",
    "        tovisit.add(k)\n",
    "    tovisit=tovisit-visit      #remove checked links from the to visit set"
   ]
  },
  {
   "cell_type": "code",
   "execution_count": 6,
   "metadata": {
    "ExecuteTime": {
     "end_time": "2021-01-13T02:30:23.295876Z",
     "start_time": "2021-01-13T02:30:23.282911Z"
    }
   },
   "outputs": [
    {
     "name": "stdout",
     "output_type": "stream",
     "text": [
      "['/cas/math.html', '/cas/math/about-us.html', '/cas/math/about-us/why-choose.html']\n"
     ]
    },
    {
     "data": {
      "text/plain": [
       "281"
      ]
     },
     "execution_count": 6,
     "metadata": {},
     "output_type": "execute_result"
    }
   ],
   "source": [
    "print(mydict['/cas/math.html'][:3]) #confirming that dictionary is correct\n",
    "len(mydict)"
   ]
  },
  {
   "cell_type": "code",
   "execution_count": 7,
   "metadata": {
    "ExecuteTime": {
     "end_time": "2021-01-13T02:30:23.311833Z",
     "start_time": "2021-01-13T02:30:23.297870Z"
    }
   },
   "outputs": [
    {
     "name": "stdout",
     "output_type": "stream",
     "text": [
      "0\n"
     ]
    },
    {
     "data": {
      "text/plain": [
       "281"
      ]
     },
     "execution_count": 7,
     "metadata": {},
     "output_type": "execute_result"
    }
   ],
   "source": [
    "link2num = {}           #create empty dictionary\n",
    "n=0                     #create a counter that will be used for indexing\n",
    "for k in mydict.keys(): #loop over keys in mydict (the links)\n",
    "    link2num[k]=n       # add values at index n\n",
    "    n+=1                #index n increases to next value\n",
    "    \n",
    "print(link2num['/cas/math.html'])  #since '/cas/math.html' is first link in original dict, it should be first element\n",
    "len(link2num)"
   ]
  },
  {
   "cell_type": "code",
   "execution_count": 8,
   "metadata": {
    "ExecuteTime": {
     "end_time": "2021-01-13T02:30:23.343755Z",
     "start_time": "2021-01-13T02:30:23.318817Z"
    }
   },
   "outputs": [
    {
     "name": "stdout",
     "output_type": "stream",
     "text": [
      "/cas/math.html\n"
     ]
    },
    {
     "data": {
      "text/plain": [
       "281"
      ]
     },
     "execution_count": 8,
     "metadata": {},
     "output_type": "execute_result"
    }
   ],
   "source": [
    "num2link= {}\n",
    "for k,v in link2num.items():      #iterate over keys and values in link2num dictionary\n",
    "    num2link[v]=k                 # add number index as key and links as value\n",
    "    \n",
    "print(num2link[0])               #should output /cas/math.html\n",
    "len(num2link)"
   ]
  },
  {
   "cell_type": "code",
   "execution_count": 9,
   "metadata": {
    "ExecuteTime": {
     "end_time": "2021-01-13T02:30:24.349024Z",
     "start_time": "2021-01-13T02:30:23.346741Z"
    }
   },
   "outputs": [
    {
     "data": {
      "text/plain": [
       "<Figure size 2000x1500 with 2 Axes>"
      ]
     },
     "metadata": {},
     "output_type": "display_data"
    }
   ],
   "source": [
    "import numpy as np\n",
    "import matplotlib.pyplot as plt\n",
    "\n",
    "myarray = np.zeros((len(mydict),len(mydict)))   #fill empty array that is length of mydict by legnth of mydict\n",
    "for k,v in mydict.items():                      #iterate over keys and values of linked webpages\n",
    "    i=link2num[k]                               # create row index with index of link2num dictionary\n",
    "    for a in v:                                 #iterate over linked webpage values\n",
    "        j=link2num[a]                           #create column index  using index of link2num dictionary\n",
    "        myarray[i,j]+=1                         #add 1 for every webpage counted at the row and column index of corresponding webpage in the matrix\n",
    "plt.figure(figsize=(20,15))\n",
    "plt.imshow(myarray.transpose(),cmap='hot')      #plot transpose just to see what it looks like.\n",
    "plt.colorbar()\n",
    "plt.show()"
   ]
  },
  {
   "cell_type": "code",
   "execution_count": 10,
   "metadata": {
    "ExecuteTime": {
     "end_time": "2021-01-13T02:30:24.363981Z",
     "start_time": "2021-01-13T02:30:24.351016Z"
    }
   },
   "outputs": [
    {
     "name": "stdout",
     "output_type": "stream",
     "text": [
      "281 [[2. 1. 1. ... 1. 1. 0.]\n",
      " [2. 1. 1. ... 1. 0. 0.]\n",
      " [2. 1. 3. ... 1. 0. 0.]\n",
      " ...\n",
      " [2. 1. 3. ... 1. 0. 0.]\n",
      " [2. 1. 3. ... 1. 0. 0.]\n",
      " [2. 1. 3. ... 1. 0. 0.]]\n"
     ]
    }
   ],
   "source": [
    "print(len(myarray), myarray[:20])  #checking if myarray makes sense"
   ]
  },
  {
   "cell_type": "code",
   "execution_count": 11,
   "metadata": {
    "ExecuteTime": {
     "end_time": "2021-01-13T02:30:24.489477Z",
     "start_time": "2021-01-13T02:30:24.365977Z"
    }
   },
   "outputs": [],
   "source": [
    "a = np.zeros((len(mydict)+1,len(mydict)))      #create a matrix with column same size as dict, for row same size + 1 \n",
    "a[-1]=1                                        #add 1 at bottom of last row\n",
    "b = np.zeros(len(mydict)+1)                    #create (282,0) b matrix same are rows of a\n",
    "b[-1]=1                                        #last element is 1\n",
    "sumdenom = [sum(x) for x in myarray]           #calcualte total number of pages \n",
    "for i in range(len(myarray)):                  #iterate over length of mayarray, this is for rows\n",
    "    for j in range(len(myarray)):              #iterate over length of mayarray, this is for col\n",
    "        num = myarray[j,i]                     #get value containing numbers of links for a webpage\n",
    "        if sumdenom[j]==0:                     # if sum at index=0, then value is 0 for that instance \n",
    "            a[i,j] = 0\n",
    "        else:\n",
    "            a[i,j] = num/(sumdenom[j])         #divide r(Pi)/n(Pi)\n",
    "for i in range(len(myarray)):\n",
    "    a[i,i] -=1                                 #add ones in diagonals to account for adding 1 at the end of matrix"
   ]
  },
  {
   "cell_type": "code",
   "execution_count": 12,
   "metadata": {
    "ExecuteTime": {
     "end_time": "2021-01-13T02:30:24.521086Z",
     "start_time": "2021-01-13T02:30:24.497154Z"
    },
    "scrolled": false
   },
   "outputs": [
    {
     "data": {
      "text/plain": [
       "array([[-0.9862069 ,  0.02564103,  0.01923077, ...,  0.025     ,\n",
       "         0.01754386,  0.01980198],\n",
       "       [ 0.00689655, -0.98717949,  0.00961538, ...,  0.0125    ,\n",
       "         0.01754386,  0.00990099],\n",
       "       [ 0.00689655,  0.01282051, -0.97115385, ...,  0.0125    ,\n",
       "         0.00877193,  0.02970297],\n",
       "       ...,\n",
       "       [ 0.00689655,  0.        ,  0.        , ...,  0.        ,\n",
       "        -0.99122807,  0.        ],\n",
       "       [ 0.        ,  0.        ,  0.        , ...,  0.        ,\n",
       "         0.        , -1.        ],\n",
       "       [ 1.        ,  1.        ,  1.        , ...,  1.        ,\n",
       "         1.        ,  1.        ]])"
      ]
     },
     "execution_count": 12,
     "metadata": {},
     "output_type": "execute_result"
    }
   ],
   "source": [
    "a"
   ]
  },
  {
   "cell_type": "code",
   "execution_count": 13,
   "metadata": {
    "ExecuteTime": {
     "end_time": "2021-01-13T02:30:24.615728Z",
     "start_time": "2021-01-13T02:30:24.527079Z"
    }
   },
   "outputs": [
    {
     "name": "stdout",
     "output_type": "stream",
     "text": [
      "0.9999999986101004\n",
      "[0.01899337 0.01122655 0.01348221 0.01334671 0.00069791] (281,)\n"
     ]
    }
   ],
   "source": [
    "x = np.linalg.lstsq(a,b,rcond=None)       #least square of matrix a and b\n",
    "z = x[0]                                  #grab just the rank\n",
    "print(z.sum())                            #add all of the ranks together, should equal ~1\n",
    "print(z[:5], z.shape)                     # check if ranks are calculated, and shape make sense"
   ]
  },
  {
   "cell_type": "code",
   "execution_count": 14,
   "metadata": {
    "ExecuteTime": {
     "end_time": "2021-01-13T02:30:24.630688Z",
     "start_time": "2021-01-13T02:30:24.618719Z"
    }
   },
   "outputs": [
    {
     "name": "stdout",
     "output_type": "stream",
     "text": [
      "0.018993374055046013 0.001321994513449917\n"
     ]
    }
   ],
   "source": [
    "ranks = {k:z[link2num[k]] for k in mydict.keys()}        #use link2num to attach rank values to respective keys\n",
    "print(ranks['/cas/math.html'], ranks['/cas/math/people/faculty/simone-cassani.html']) #check to see if dictionary is correct"
   ]
  },
  {
   "cell_type": "code",
   "execution_count": 15,
   "metadata": {
    "ExecuteTime": {
     "end_time": "2021-01-13T02:30:24.661607Z",
     "start_time": "2021-01-13T02:30:24.636677Z"
    },
    "scrolled": true
   },
   "outputs": [
    {
     "data": {
      "text/plain": [
       "[('/cas/math/about-us/memberships/AWM.html', 0.03570090935369624),\n",
       " ('/cas/math/news-events/visiting.html', 0.02460830870696986),\n",
       " ('/cas/math/ug/undergraduate-research.html', 0.023016007453772098),\n",
       " ('/cas/math/ug/undergraduate-programs.html', 0.02272739822375152),\n",
       " ('/cas/math/people/alumni-friends/class-of-2020.html', 0.022626288867442227),\n",
       " ('/cas/math/news-events/news.html', 0.02245084731783546),\n",
       " ('/cas/math/people/grad-directory.html', 0.021916942116386638),\n",
       " ('/cas/math/people/alumni-friends.html', 0.020639029589350703),\n",
       " ('/cas/math/grad.html', 0.02018324943766319),\n",
       " ('/cas/math.html', 0.018993374055046013),\n",
       " ('/cas/math/ug/help-center.html', 0.014353271704738673),\n",
       " ('/cas/math/grad/master-program/focus.html', 0.01404984980290577),\n",
       " ('/cas/math/ug/honors--awards--and-scholarships.html', 0.013960845371298408),\n",
       " ('/cas/math/about-us/contact-us.html', 0.013482213737533486),\n",
       " ('/cas/math/about-us/the-buffalo-niagara-region.html', 0.013482213251903566)]"
      ]
     },
     "execution_count": 15,
     "metadata": {},
     "output_type": "execute_result"
    }
   ],
   "source": [
    "def second(x): return x[1]          # create function that gives us rank from ranks\n",
    "listrank = list(ranks.items())      # create list of items in ranks\n",
    "final_sort = sorted(listrank, key = second, reverse = True) #sort listrank, from highest to lowest\n",
    "final_sort[:15]"
   ]
  },
  {
   "cell_type": "code",
   "execution_count": 16,
   "metadata": {
    "ExecuteTime": {
     "end_time": "2021-01-13T02:30:25.386557Z",
     "start_time": "2021-01-13T02:30:24.667593Z"
    }
   },
   "outputs": [
    {
     "data": {
      "image/png": "[encoded data removed]",
      "text/plain": [
       "<Figure size 1440x1080 with 2 Axes>"
      ]
     },
     "metadata": {
      "needs_background": "light"
     },
     "output_type": "display_data"
    }
   ],
   "source": [
    "ranklist = []\n",
    "for x in final_sort:                  #iterate over values in sorted list of ranks and pages\n",
    "    ranklist.append(x[0])             #append each of the pages based on rank to arbitrary index (0-len(final_sort))\n",
    "\n",
    "e = np.zeros((len(ranklist),len(ranklist)))   # create empty matrix len(ranklist) x len(ranklist)\n",
    "for i in range(len(ranklist)):                #iterate over rows\n",
    "    for j in range(len(ranklist)):            #iterate over col\n",
    "        row = link2num[ranklist[i]]           #set row equal to ranklist[i] (row)\n",
    "        col = link2num[ranklist[j]]           #set col equal to ranklist[j] (col)\n",
    "        e[i,j] = myarray[row,col]             #add corresponding value to matrix e\n",
    "plt.figure(figsize=(20,15))\n",
    "plt.imshow(e.transpose(),cmap='hot')          #plot transpose so highest rank is at the top\n",
    "plt.colorbar()\n",
    "plt.show()"
   ]
  },
  {
   "cell_type": "markdown",
   "metadata": {},
   "source": [
    "The graph shows the ranks of the top pages in lighter colors, and pages with lower rank on the bottom with darker colors. The overlapping color shows how these higher ranked pages have more links between than them the lower ranks ones. "
   ]
  },
  {
   "cell_type": "markdown",
   "metadata": {},
   "source": [
    "## Observations"
   ]
  },
  {
   "cell_type": "code",
   "execution_count": 17,
   "metadata": {
    "ExecuteTime": {
     "end_time": "2021-01-13T02:30:25.402482Z",
     "start_time": "2021-01-13T02:30:25.388521Z"
    },
    "scrolled": true
   },
   "outputs": [
    {
     "data": {
      "text/plain": [
       "[('/cas/math/about-us/memberships/AWM.html', 0.03570090935369624),\n",
       " ('/cas/math/news-events/visiting.html', 0.02460830870696986),\n",
       " ('/cas/math/ug/undergraduate-research.html', 0.023016007453772098),\n",
       " ('/cas/math/ug/undergraduate-programs.html', 0.02272739822375152),\n",
       " ('/cas/math/people/alumni-friends/class-of-2020.html', 0.022626288867442227),\n",
       " ('/cas/math/news-events/news.html', 0.02245084731783546),\n",
       " ('/cas/math/people/grad-directory.html', 0.021916942116386638),\n",
       " ('/cas/math/people/alumni-friends.html', 0.020639029589350703),\n",
       " ('/cas/math/grad.html', 0.02018324943766319),\n",
       " ('/cas/math.html', 0.018993374055046013)]"
      ]
     },
     "execution_count": 17,
     "metadata": {},
     "output_type": "execute_result"
    }
   ],
   "source": [
    "final_sort[:10]"
   ]
  },
  {
   "cell_type": "markdown",
   "metadata": {},
   "source": [
    "When taking a look the top 10 pages, a surprising result for me was that `/cas/math.html` was at the bottom of the list. I was expecting it to be the highest rank because it is the homepage that contains all the links, but after some logical thinking it becomes clear that while this is the case,not many websites have links going back to the homepage. After clicking on some of the pages,  I saw that some do not contain any link back to the UBM homepage and send you to a different UB Website.\n",
    "\n",
    "The highest ranked page is the Association for Women in Mathematics page. After browsing through the page I noticed that the Association hosted lecture series and had multiple events, and I am sure that many other pages probably linked to spread the news about such events and series.I have personally gotten emails about events and things going on about the AWM from  mathematics email chains. It is good to see this page is ranked the highest, as there are fewer women in the Math field than men, and the field is essentially male-dominated. \n",
    "\n",
    "The rest of the pages all contain information about undergraduate and graduate programs and activities. There are links to contact members of the math department, directions on how to visit, and news from the Math Department. All of these pages seem pretty useful and information I would expect many would require when on the UBM website. "
   ]
  },
  {
   "cell_type": "code",
   "execution_count": 18,
   "metadata": {
    "ExecuteTime": {
     "end_time": "2021-01-13T02:30:25.433399Z",
     "start_time": "2021-01-13T02:30:25.408467Z"
    }
   },
   "outputs": [
    {
     "data": {
      "text/plain": [
       "[('/cas/math/news-events/news.host.html/content/shared/cas/math/modules/our-alumni/fatin.detail.html',\n",
       "  3.882893726395165e-06),\n",
       " ('/cas/math/about-us/our-alumni/our-students.host.html/content/shared/cas/math/modules/our-alumni/fatin.detail.html',\n",
       "  3.906613611699889e-06),\n",
       " ('/cas/math/ug/undergraduate-research/summer.host.html/content/shared/cas/math/modules/students2/2017-summer-scholarship.detail.html',\n",
       "  6.7798341899932835e-06),\n",
       " ('/cas/math/about-us/the-buffalo-niagara-region.host.html/content/shared/university/page-content/the-buffalo-niagara-region/things-to-do-in-buffalo/recreation_and_leisure.detail.html',\n",
       "  7.03177392736426e-06),\n",
       " ('/cas/math/about-us/the-buffalo-niagara-region.host.html/content/shared/university/page-content/the-buffalo-niagara-region/things-to-do-in-buffalo/food_and_dining.detail.html',\n",
       "  7.031773927385944e-06),\n",
       " ('/cas/math/about-us/the-buffalo-niagara-region.host.html/content/shared/university/page-content/the-buffalo-niagara-region/things-to-do-in-buffalo/sports_central.detail.html',\n",
       "  7.031773927387245e-06),\n",
       " ('/cas/math/about-us/the-buffalo-niagara-region.host.html/content/shared/university/page-content/the-buffalo-niagara-region/things-to-do-in-buffalo/arts-and-culture.detail.html',\n",
       "  7.031773927389413e-06),\n",
       " ('/cas/math/about-us/the-buffalo-niagara-region.host.html/content/shared/university/page-content/the-buffalo-niagara-region/things-to-do-in-buffalo/history.detail.html',\n",
       "  7.031773927389847e-06),\n",
       " ('/cas/math/about-us/the-buffalo-niagara-region.host.html/content/shared/university/page-content/the-buffalo-niagara-region/things-to-do-in-buffalo/nightlife.detail.html',\n",
       "  7.03177392740199e-06),\n",
       " ('/cas/math/people/faculty/kraus.html', 6.893046028171035e-05)]"
      ]
     },
     "execution_count": 18,
     "metadata": {},
     "output_type": "execute_result"
    }
   ],
   "source": [
    "final_sort_reversed = sorted(listrank, key = second) #sort listrank, from lowest to highest\n",
    "final_sort_reversed[:10]"
   ]
  },
  {
   "cell_type": "markdown",
   "metadata": {},
   "source": [
    "When looking at the lowest ranked pages, the opposite is true. The pages contain very specific/niche  information that looks like many pages wouldn't need to link to, such as information on art and culture in Buffalo (something most math students wouldn't need to click on), an Emeriti Faculty member who deals with retired university personnel(again, not something most math website users would need links for), information on a 2017 scholarship (it's 2020), etc. "
   ]
  },
  {
   "cell_type": "markdown",
   "metadata": {},
   "source": [
    "## References:\n",
    "\n",
    "* Code Help from Professor S. Cassani in MTH337\n",
    "* PageRank information: https://www.link-assistant.com/news/google-page-rank-2019.html\n",
    "* UBM Homepage : http://www.buffalo.edu/cas/math.html"
   ]
  },
  {
   "cell_type": "code",
   "execution_count": null,
   "metadata": {},
   "outputs": [],
   "source": []
  }
 ],
 "metadata": {
  "kernelspec": {
   "display_name": "Python 3",
   "language": "python",
   "name": "python3"
  },
  "language_info": {
   "codemirror_mode": {
    "name": "ipython",
    "version": 3
   },
   "file_extension": ".py",
   "mimetype": "text/x-python",
   "name": "python",
   "nbconvert_exporter": "python",
   "pygments_lexer": "ipython3",
   "version": "3.7.4"
  },
  "latex_envs": {
   "LaTeX_envs_menu_present": true,
   "autoclose": false,
   "autocomplete": true,
   "bibliofile": "biblio.bib",
   "cite_by": "apalike",
   "current_citInitial": 1,
   "eqLabelWithNumbers": true,
   "eqNumInitial": 1,
   "hotkeys": {
    "equation": "Ctrl-E",
    "itemize": "Ctrl-I"
   },
   "labels_anchors": false,
   "latex_user_defs": false,
   "report_style_numbering": false,
   "user_envs_cfg": false
  }
 },
 "nbformat": 4,
 "nbformat_minor": 2
}
